{
  "nbformat": 4,
  "nbformat_minor": 0,
  "metadata": {
    "colab": {
      "name": "Hand written_digit_ recognition.ipynb",
      "provenance": [],
      "collapsed_sections": [],
      "authorship_tag": "ABX9TyP7llHAwHxYpbHc0qbQQ5Jg",
      "include_colab_link": true
    },
    "kernelspec": {
      "name": "python3",
      "display_name": "Python 3"
    }
  },
  "cells": [
    {
      "cell_type": "markdown",
      "metadata": {
        "id": "view-in-github",
        "colab_type": "text"
      },
      "source": [
        "<a href=\"https://colab.research.google.com/github/bkousalya/Hand-written_digit_recognition/blob/main/Hand_written_digit__recognition.ipynb\" target=\"_parent\"><img src=\"https://colab.research.google.com/assets/colab-badge.svg\" alt=\"Open In Colab\"/></a>"
      ]
    },
    {
      "cell_type": "code",
      "metadata": {
        "id": "c8SUx2yGsl3r"
      },
      "source": [
        "pip install imdbpy\r\n"
      ],
      "execution_count": null,
      "outputs": []
    },
    {
      "cell_type": "code",
      "metadata": {
        "id": "OaPmsDktsxvK"
      },
      "source": [
        "pip install tensorflow"
      ],
      "execution_count": null,
      "outputs": []
    },
    {
      "cell_type": "code",
      "metadata": {
        "id": "Aeu3p1e_s5g6"
      },
      "source": [
        "import tensorflow as tf\r\n",
        "\r\n"
      ],
      "execution_count": 7,
      "outputs": []
    },
    {
      "cell_type": "code",
      "metadata": {
        "id": "yQZsumV0tTQT"
      },
      "source": [
        "(x_train, y_train),(x_test, y_test) = tf.keras.datasets.mnist.load_data()"
      ],
      "execution_count": null,
      "outputs": []
    },
    {
      "cell_type": "code",
      "metadata": {
        "id": "UNPmk1jytdYw"
      },
      "source": [
        "img_rows,img_cols = (28,28)"
      ],
      "execution_count": 9,
      "outputs": []
    },
    {
      "cell_type": "code",
      "metadata": {
        "id": "4bpo9uxqtg25"
      },
      "source": [
        "pip install matplotlib"
      ],
      "execution_count": null,
      "outputs": []
    },
    {
      "cell_type": "code",
      "metadata": {
        "id": "lE6zfEH3tmSD"
      },
      "source": [
        "import matplotlib.pyplot as plt"
      ],
      "execution_count": 11,
      "outputs": []
    },
    {
      "cell_type": "code",
      "metadata": {
        "id": "tdloLHl3tpce"
      },
      "source": [
        "image_index = 7777"
      ],
      "execution_count": 12,
      "outputs": []
    },
    {
      "cell_type": "code",
      "metadata": {
        "id": "BWwVlpDOty8K"
      },
      "source": [
        "print(y_train[image_index])"
      ],
      "execution_count": null,
      "outputs": []
    },
    {
      "cell_type": "code",
      "metadata": {
        "id": "4-7OGOqat3l0"
      },
      "source": [
        "plt.imshow(x_train[image_index], cmap='Greys')"
      ],
      "execution_count": null,
      "outputs": []
    },
    {
      "cell_type": "code",
      "metadata": {
        "id": "yU4y6Mfmt6Fs"
      },
      "source": [
        "x_train = x_train.reshape(x_train.shape[0], 28, 28, 1)"
      ],
      "execution_count": 15,
      "outputs": []
    },
    {
      "cell_type": "code",
      "metadata": {
        "id": "5ImE27c6uAVI"
      },
      "source": [
        "x_test = x_test.reshape(x_test.shape[0], 28, 28, 1)\r\n",
        "input_shape = (28, 28, 1)\r\n"
      ],
      "execution_count": 16,
      "outputs": []
    },
    {
      "cell_type": "code",
      "metadata": {
        "id": "v2l-2u6XuBUg"
      },
      "source": [
        "x_train = x_train.astype('float32')\r\n"
      ],
      "execution_count": 17,
      "outputs": []
    },
    {
      "cell_type": "code",
      "metadata": {
        "id": "cPTji_PvuBgp"
      },
      "source": [
        "x_test = x_test.astype('float32')\r\n"
      ],
      "execution_count": 18,
      "outputs": []
    },
    {
      "cell_type": "code",
      "metadata": {
        "id": "NyOdH2rDuBq9"
      },
      "source": [
        "x_train /= 255\r\n"
      ],
      "execution_count": 19,
      "outputs": []
    },
    {
      "cell_type": "code",
      "metadata": {
        "id": "SbsVI40yuB1u"
      },
      "source": [
        "x_test /= 255"
      ],
      "execution_count": 20,
      "outputs": []
    },
    {
      "cell_type": "code",
      "metadata": {
        "colab": {
          "base_uri": "https://localhost:8080/"
        },
        "id": "IRG-KGR1uOJ9",
        "outputId": "8dacaa7b-84e3-493b-952f-1549d66cebb9"
      },
      "source": [
        "print('x_train shape:', x_train.shape)\r\n"
      ],
      "execution_count": 21,
      "outputs": [
        {
          "output_type": "stream",
          "text": [
            "x_train shape: (60000, 28, 28, 1)\n"
          ],
          "name": "stdout"
        }
      ]
    },
    {
      "cell_type": "code",
      "metadata": {
        "colab": {
          "base_uri": "https://localhost:8080/"
        },
        "id": "i0wj3InguRky",
        "outputId": "788c0576-d52e-4d85-9503-46c4996e8654"
      },
      "source": [
        "print('Number of images in x_train', x_train.shape[0])\r\n"
      ],
      "execution_count": 22,
      "outputs": [
        {
          "output_type": "stream",
          "text": [
            "Number of images in x_train 60000\n"
          ],
          "name": "stdout"
        }
      ]
    },
    {
      "cell_type": "code",
      "metadata": {
        "id": "w-PIDb6duR5Y"
      },
      "source": [
        "print('Number of images in x_test', x_test.shape[0])"
      ],
      "execution_count": null,
      "outputs": []
    },
    {
      "cell_type": "code",
      "metadata": {
        "id": "tJg6nX_uuSF_"
      },
      "source": [
        "from keras.models import Sequential\r\n",
        "from keras.layers import Dense, Conv2D, Dropout, Flatten, MaxPooling2D"
      ],
      "execution_count": 24,
      "outputs": []
    },
    {
      "cell_type": "code",
      "metadata": {
        "id": "LVwmPq0PueN1"
      },
      "source": [
        "model = Sequential()\r\n",
        "model.add(Conv2D(28, kernel_size=(3,3), input_shape=input_shape))\r\n",
        "model.add(MaxPooling2D(pool_size=(2, 2)))\r\n",
        "model.add(Flatten()) # Flattening the 2D arrays for fully connected layers\r\n",
        "model.add(Dense(128, activation=tf.nn.relu))\r\n",
        "model.add(Dropout(0.2))\r\n",
        "model.add(Dense(10,activation=tf.nn.softmax))"
      ],
      "execution_count": 25,
      "outputs": []
    },
    {
      "cell_type": "code",
      "metadata": {
        "id": "_1LAcMWMuiB3"
      },
      "source": [
        "model.compile(optimizer='adam', \r\n",
        "              loss='sparse_categorical_crossentropy', \r\n",
        "              metrics=['accuracy'])"
      ],
      "execution_count": 26,
      "outputs": []
    },
    {
      "cell_type": "code",
      "metadata": {
        "id": "6Hj_ba-Juk9i"
      },
      "source": [
        "model.fit(x=x_train,y=y_train, epochs=7)"
      ],
      "execution_count": null,
      "outputs": []
    },
    {
      "cell_type": "code",
      "metadata": {
        "id": "H5heYhBSuoA7"
      },
      "source": [
        "model.evaluate(x_test, y_test)"
      ],
      "execution_count": null,
      "outputs": []
    },
    {
      "cell_type": "code",
      "metadata": {
        "id": "n23BY49PuoRH"
      },
      "source": [
        "import numpy as np\r\n",
        "from google.colab import files\r\n",
        "from keras.preprocessing import image\r\n",
        "from tensorflow.python.keras import backend as K"
      ],
      "execution_count": 38,
      "outputs": []
    },
    {
      "cell_type": "code",
      "metadata": {
        "id": "AqFQIWybuzkU"
      },
      "source": [
        "uploaded = files.upload()\r\n",
        "\r\n",
        "for fn in uploaded.keys():\r\n",
        " \r\n",
        "  # predicting images\r\n",
        "  path = fn\r\n",
        "  \r\n",
        "  img = image.load_img(path,target_size=(28,28))\r\n",
        "  plt.imshow(img,cmap='Greys')\r\n",
        "  \r\n",
        "  img = image.img_to_array(img) #converting to array\r\n",
        "  print(img.shape)\r\n",
        "  img = tf.image.rgb_to_grayscale(img,name=None) #converting channel 3 to 1, rgb to black\r\n",
        "  print(img.shape)\r\n",
        "  #sess = K.get_session() #starting a session\r\n",
        "  array = image.img_to_array(img)\r\n",
        "  img = np.expand_dims(array, axis = 0)\r\n",
        "  print(img.shape)\r\n",
        "  pred = model.predict(img)\r\n",
        "  print(pred.argmax())"
      ],
      "execution_count": null,
      "outputs": []
    }
  ]
}